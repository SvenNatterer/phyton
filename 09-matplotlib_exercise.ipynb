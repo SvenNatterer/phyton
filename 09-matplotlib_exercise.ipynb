{
  "cells": [
    {
      "cell_type": "markdown",
      "metadata": {},
      "source": [
        "# Exercises for Introduction to Python for Data Science\n",
        "\n",
        "Week 09 - Matplotlib\n",
        "\n",
        "Matthias Feurer and Andreas Bender  \n",
        "2025-01-07"
      ],
      "id": "8143f259-9adf-4c06-9a4c-933c367069c7"
    },
    {
      "cell_type": "markdown",
      "metadata": {},
      "source": [
        "In this sheet we will get hands‑on practice with **Matplotlib**. The\n",
        "four exercises build on one another: we start with a very simple line\n",
        "plot and gradually move towards multi‑panel figures and\n",
        "publication‑ready styling.\n",
        "\n",
        "**Learning goals**\n",
        "\n",
        "-   Create basic line and histogram plots.\n",
        "-   Add error bars, legends, axis labels, titles and annotations.\n",
        "-   Adjust axis limits, tick formatting and log scales.\n",
        "-   Combine several axes in the same figure."
      ],
      "id": "29f55118-fc2f-4972-814f-d70e0fc3df20"
    },
    {
      "cell_type": "markdown",
      "metadata": {},
      "source": [
        "# Common imports\n",
        "\n",
        "Run this cell once; it is reused in all subsequent exercises."
      ],
      "id": "448e234d-1c7b-45e6-97eb-ecbdabb592c3"
    },
    {
      "cell_type": "code",
      "execution_count": null,
      "metadata": {},
      "outputs": [],
      "source": [
        "import numpy as np\n",
        "import matplotlib.pyplot as plt\n",
        "plt.close('all')  # make sure we start from a clean state"
      ],
      "id": "34ea0b15"
    },
    {
      "cell_type": "markdown",
      "metadata": {},
      "source": [
        "# Exercise 1 – *Simple line plot*\n",
        "\n",
        "Create a line plot of the function (f(x)=(x)) for (x ) sampled at 50\n",
        "points. Then:\n",
        "\n",
        "1.  Name the x‑axis “x” and the y‑axis “sin(x)”.\n",
        "2.  Give the plot the title *Sine wave*.\n",
        "3.  Make sure a grid is visible.\n",
        "\n",
        "A skeleton is provided — fill in the `<TODO>` parts."
      ],
      "id": "5beab38f-1814-4eac-85e4-88edfa783723"
    },
    {
      "cell_type": "code",
      "execution_count": null,
      "metadata": {},
      "outputs": [],
      "source": [
        "# Exercise 1 -- your code here\n",
        "# x = np.linspace(0, 10, 50)\n",
        "# y = np.sin(x)\n",
        "\n",
        "# fig, ax = plt.subplots()\n",
        "# <TODO>                  # line plot\n",
        "# <TODO>                  # label x‑axis\n",
        "# <TODO>                  # label y‑axis\n",
        "# <TODO>                  # add a title\n",
        "# <TODO>                  # add a grid\n",
        "# fig.tight_layout()\n",
        "# plt.show()"
      ],
      "id": "ac91fd50"
    },
    {
      "cell_type": "markdown",
      "metadata": {},
      "source": [
        "# Exercise 2 – *Histogram and density*\n",
        "\n",
        "1.  Draw 1000 samples from a normal distribution with mean 0 and\n",
        "    standard deviation 1. Plot a histogram with 30 equal‑width bins\n",
        "    *and* the corresponding kernel density estimate (KDE) in the same\n",
        "    axes. Use the `density=True` argument for the histogram so that both\n",
        "    curves are on the same scale.\n",
        "\n",
        "2.  In a second step add the cumulative histogram (CDF) of the same data\n",
        "    on a *secondary y‑axis* on the right.\n",
        "\n",
        "3.  Add a legend that cleanly distinguishes the PDF (hist + KDE) from\n",
        "    the CDF."
      ],
      "id": "e26af279-d0f5-430f-94c2-d2676e8b3166"
    },
    {
      "cell_type": "code",
      "execution_count": null,
      "metadata": {},
      "outputs": [],
      "source": [
        "# Exercise 2 -- your code here\n",
        "# rng = np.random.default_rng(0)\n",
        "# data = <TODO>\n",
        "\n",
        "# fig, ax1 = plt.subplots()\n",
        "\n",
        "# # (a) histogram + KDE\n",
        "# counts, bins, patches = <TODO>\n",
        "\n",
        "# # KDE using a simple Gaussian kernel\n",
        "# from scipy.stats import gaussian_kde\n",
        "# kde = gaussian_kde(data)\n",
        "# xs = np.linspace(bins.min(), bins.max(), 301)\n",
        "# ax1.plot(xs, <TODO>, lw=2, label= <TODO>)\n",
        "# ax1.set_xlabel(\"value\")\n",
        "# ax1.set_ylabel(\"PDF\")\n",
        "\n",
        "# # (b) cumulative histogram on secondary axis\n",
        "# ax2 = ax1.twinx()\n",
        "# ax2.hist(<TODO>, histtype='step', lw=2, label=\"CDF\", color=\"tab:green\")\n",
        "# ax2.set_ylabel(\"CDF\")\n",
        "\n",
        "# # (c) combine legends from both axes\n",
        "# lines1, labels1 = ax1.get_legend_handles_labels()\n",
        "# lines2, labels2 = ax2.get_legend_handles_labels()\n",
        "# ax1.legend(<TODO>, loc=\"upper left\")\n",
        "\n",
        "# fig.tight_layout()\n",
        "# plt.show()"
      ],
      "id": "90d0f8ac"
    },
    {
      "cell_type": "markdown",
      "metadata": {},
      "source": [
        "# Exercise 3 – *Scatter plot with error bars*\n",
        "\n",
        "We collected (fabricated) body‑height and body‑mass measurements of 20\n",
        "individuals, each with a small measurement error.\n",
        "\n",
        "Plot the data as a *scatter plot* with x‑error bars (height error) and\n",
        "y‑error bars (weight error). Use triangles (`marker='^'`) and a single\n",
        "colour of your choice. Label the axes and place the legend in the lower\n",
        "right corner. Try to make the figure look tidy (`fig.tight_layout()` and\n",
        "reasonable axis limits)."
      ],
      "id": "893c4af8-18bc-44ab-853e-c22a95427788"
    },
    {
      "cell_type": "code",
      "execution_count": null,
      "metadata": {},
      "outputs": [],
      "source": [
        "# Exercise 3 -- your code here\n",
        "\n",
        "# height_cm = np.array([157,160,163,165,167,168,170,172,174,176,\n",
        "#                       178,179,181,183,185,187,189,191,192,195])\n",
        "# weight_kg = np.array([52,55,54,57,60,61,63,65,67,70,\n",
        "#                       71,73,75,78,80,83,85,86,88,90])\n",
        "# height_err = 0.8\n",
        "# weight_err = 1.0\n",
        "\n",
        "# fig, ax = plt.subplots(figsize=(4,4))\n",
        "# ax.errorbar(<TODO>, <TODO>, xerr=<TODO>, yerr=<TODO>, fmt=<TODO>,\n",
        "#             mec=<TODO>, mfc='tab:orange', elinewidth=1, capsize=3,\n",
        "#             label=\"subjects\")\n",
        "# <TODO>        #Label the x-axis\n",
        "# <TODO>        #Label the y-axis\n",
        "# <TODO>        #Add a legend in the lower right corner\n",
        "# <TODO>        #Apply reasonable x-axis limit\n",
        "# <TODO>        #Apply reasonable y-axis limit\n",
        "# ax.grid(True, linestyle=':')\n",
        "# <TODO>        #Make the figure look tidy\n",
        "# plt.show()"
      ],
      "id": "55a9af98"
    },
    {
      "cell_type": "markdown",
      "metadata": {},
      "source": [
        "# Exercise 4 – *Multiple subplots & styles*\n",
        "\n",
        "1.  Generate two synthetic data sets:\n",
        "\n",
        "-   `normal` – 500 samples from a normal distribution with mean 5 and\n",
        "    standard deviation 1.\n",
        "-   `lognormal` – 500 samples from a log‑normal distribution with *the\n",
        "    same* mean and standard deviation (hint: use\n",
        "    `np.random.lognormal(mean, sigma)` – you have to find suitable\n",
        "    *mean* and *sigma* for the underlying normal – no need to be exact).\n",
        "\n",
        "1.  Create a *figure with two rows* (`nrows=2, ncols=1`) that shares the\n",
        "    x‑axis. For the upper subplot draw a histogram of `normal`. For the\n",
        "    lower subplot draw a histogram of `lognormal` but *on a logarithmic\n",
        "    x scale*.\n",
        "\n",
        "2.  Write the code such that the *first* plot uses Matplotlib’s default\n",
        "    style, while before drawing the *second* plot you switch to the\n",
        "    `\"ggplot\"` style sheet using `plt.style.use(\"ggplot\")`."
      ],
      "id": "15831066-87e0-4761-9223-cbca60e3cac8"
    },
    {
      "cell_type": "code",
      "execution_count": null,
      "metadata": {},
      "outputs": [],
      "source": [
        "# Exercise 4 -- your code here\n",
        "# rng = np.random.default_rng(42)\n",
        "# normal = <TODO>\n",
        "# lognormal = <TODO>\n",
        "\n",
        "# fig, (ax_top, ax_bottom) = plt.subplots(<TODO>, figsize=(5,6))\n",
        "\n",
        "# # default style for top subplot\n",
        "# ax_top.hist(<TODO>, bins=30, color=\"tab:blue\", alpha=0.6)\n",
        "# ax_top.set_title(\"Normal distribution\")\n",
        "# ax_top.set_ylabel(\"frequency\")\n",
        "\n",
        "# # switch style for bottom subplot\n",
        "# <TODO>\n",
        "# ax_bottom.hist(<TODO>, bins=30)\n",
        "# ax_bottom.set_title(\"Log‑normal distribution (log‑x)\")\n",
        "# ax_bottom.set_xlabel(\"value\")\n",
        "# ax_bottom.set_ylabel(\"frequency\")\n",
        "# <TODO>        #Set logarithmic x scale\n",
        "\n",
        "# fig.tight_layout()\n",
        "# plt.show()"
      ],
      "id": "6ce3a2e4"
    }
  ],
  "nbformat": 4,
  "nbformat_minor": 5,
  "metadata": {
    "kernelspec": {
      "name": "python3",
      "display_name": "Python 3 (ipykernel)",
      "language": "python",
      "path": "/home/matthias/miniconda3/envs/pythoncourse/share/jupyter/kernels/python3"
    }
  }
}