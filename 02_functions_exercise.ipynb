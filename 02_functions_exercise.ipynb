{
  "cells": [
    {
      "cell_type": "markdown",
      "id": "f82b4d3c-befb-4c3a-960c-c2fa4a337a0c",
      "metadata": {},
      "source": [
        "# Exercises for Introduction to Python for Data Science\n",
        "\n",
        "Week 02 - Functions\n",
        "\n",
        "Matthias Feurer and Andreas Bender  \n",
        "2025-04-29\n",
        "\n",
        "# Exercise 1\n",
        "\n",
        "Write a function called `my_fav_movie` that inputs a `name` and returns\n",
        "the statement “My favorite movie is `name`!”.\n",
        "\n",
        "# Exercise 2\n",
        "\n",
        "Write a function named `calc_bmi` that calculates the BMI based on the\n",
        "weight in kilograms and height in centimeters. The function inputs\n",
        "should be `height` and `weight`. The return value should be rounded to\n",
        "two decimals.\n",
        "\n",
        "# Exercise 3\n",
        "\n",
        "Write a function `best_movie_check` that has one input argument `name`,\n",
        "a string. The function should return `\"Correct!\"`, if the name provided\n",
        "is “Demolitian Man” and `\"WRONG!\"` if the input is anything else.\n",
        "\n",
        "# Exercise 4\n",
        "\n",
        "Write a function `convert_temperature` with arguments\n",
        "\n",
        "-   `degrees`: the temperature to be converted\n",
        "-   `input_unit`: the unit in which `temperature` has been provided\n",
        "    (default: Celsius)\n",
        "-   `output_unit`: the unit to which `temperature` should be converted\n",
        "    (options: Celsius, Fahrenheit, Kelvin; default: Fahrenheit)\n",
        "\n",
        "The function should be case-insensitive, that is work as long as the\n",
        "spelling is correct. If either input or ouput unit is not one of\n",
        "(case-insensitive) Celsius, Fahrenheit, Kelvin, throw an error before\n",
        "you make any calculations (use `raise ValueError(\"Error message\")`) to\n",
        "do so. If input and output units are specified correctly, convert the\n",
        "temperature, print “The temperature is <converted degrees> degrees\n",
        "<ouput unit>!”, then return the calculated value. Do not use loops or\n",
        "recursions.\n",
        "\n",
        "# Exercise 5\n",
        "\n",
        "Write a function `linewise_print_and_repeat` that takes a variable\n",
        "length of arguments of strings as well as an integer value `multiplier`\n",
        "and prints the following output.\n",
        "\n",
        "“—start of output: <br> argument1 <br> argument2 <br> argument3 <br> …\n",
        "<br> argument1 <br> argument2 <br> argument3 <br> … <br> —end of output”\n",
        "\n",
        "The number of times, each argument is repeated is controled by the\n",
        "`multiplier` argument. The default of multiplier should be `None`, in\n",
        "which case arguments should be printed, but not repeated. After\n",
        "execution of the function, the prompt should also start on a new line.\n",
        "Do not use loops."
      ]
    },
    {
      "cell_type": "code",
      "execution_count": 4,
      "id": "a30bb81e",
      "metadata": {},
      "outputs": [
        {
          "name": "stdout",
          "output_type": "stream",
          "text": [
            "My favorite Movie is titanic!"
          ]
        }
      ],
      "source": [
        "def my_fav_movie(name):\n",
        "    print(\"My favorite Movie is\", name, end='!')\n",
        "\n",
        "my_fav_movie(\"titanic\")"
      ]
    },
    {
      "cell_type": "code",
      "execution_count": 10,
      "id": "37a4fd05",
      "metadata": {},
      "outputs": [
        {
          "data": {
            "text/plain": [
              "24.86"
            ]
          },
          "execution_count": 10,
          "metadata": {},
          "output_type": "execute_result"
        }
      ],
      "source": [
        "def calc_bmi(height, weight):\n",
        "    height /= 100\n",
        "    bmi = weight / height**2\n",
        "    return round(bmi, 2)\n",
        "\n",
        "calc_bmi(186, 86)"
      ]
    },
    {
      "cell_type": "code",
      "execution_count": 13,
      "id": "bb01b971",
      "metadata": {},
      "outputs": [
        {
          "data": {
            "text/plain": [
              "'Correct!'"
            ]
          },
          "execution_count": 13,
          "metadata": {},
          "output_type": "execute_result"
        }
      ],
      "source": [
        "def best_movie_check(name):\n",
        "    if name == 'Demolition Man':\n",
        "       return 'Correct!'\n",
        "    else:\n",
        "        return \"WRONG!\"\n",
        "    \n",
        "best_movie_check(\"Demolition Man\")"
      ]
    },
    {
      "cell_type": "code",
      "execution_count": 53,
      "id": "339b6199",
      "metadata": {},
      "outputs": [
        {
          "name": "stdout",
          "output_type": "stream",
          "text": [
            "The temperature is 290.15 Kelvin!"
          ]
        }
      ],
      "source": [
        "def convert_temperature(degrees, input_unit = 'Celsius', output_unit = 'Fahrenheit'):\n",
        "    if input_unit not in ('Celsius', 'Fahrenheit', 'Kelvin'):\n",
        "        raise ValueError('Wrong Input Unit')\n",
        "    if output_unit not in ('Celsius', 'Fahrenheit', 'Kelvin'):\n",
        "        raise ValueError('Wrong Input Unit')\n",
        "    if (input_unit == 'Celsius'):\n",
        "        if (output_unit == 'Fahrenheit'):\n",
        "            output = degrees * 9/5 + 32\n",
        "        else:\n",
        "            output = degrees + 273.15\n",
        "    if (input_unit == 'Fahrenheit'):\n",
        "        if (output_unit == 'Celsius'):\n",
        "            output = (degrees - 32) * 5/9\n",
        "        else:\n",
        "            output = (degrees - 32) * 5/9\n",
        "            output = output + 273.15\n",
        "        \n",
        "    if (input_unit == 'Kelvin'):\n",
        "        if (output_unit == 'Celsius'):\n",
        "            output = degrees - 273.15\n",
        "        else:\n",
        "            output = degrees - 273.15\n",
        "            output = output * 9/5 + 32\n",
        "    return print('The temperature is', output, output_unit, end= '!')   \n",
        "    \n",
        "\n",
        "convert_temperature(17, 'Celsius', 'Kelvin')\n"
      ]
    },
    {
      "cell_type": "code",
      "execution_count": 3,
      "id": "a4710e7c",
      "metadata": {},
      "outputs": [
        {
          "name": "stdout",
          "output_type": "stream",
          "text": [
            "--start output\n",
            "hello\n",
            "bello\n",
            "cello\n",
            "--end output\n"
          ]
        }
      ],
      "source": [
        "def linewise_print_and_repeat(*args,multiplier = None):\n",
        "    if multiplier == None:\n",
        "        multiplier = 1\n",
        "    \n",
        "    print(\"--start output\", *args*multiplier, \"--end output\", sep=\"\\n\", end = \"\\n\")\n",
        "\n",
        "linewise_print_and_repeat(\"hello\",\"bello\",\"cello\", multiplier=1)\n",
        "\n"
      ]
    }
  ],
  "metadata": {
    "kernelspec": {
      "display_name": "base",
      "language": "python",
      "name": "python3"
    },
    "language_info": {
      "codemirror_mode": {
        "name": "ipython",
        "version": 3
      },
      "file_extension": ".py",
      "mimetype": "text/x-python",
      "name": "python",
      "nbconvert_exporter": "python",
      "pygments_lexer": "ipython3",
      "version": "3.12.2"
    }
  },
  "nbformat": 4,
  "nbformat_minor": 5
}
