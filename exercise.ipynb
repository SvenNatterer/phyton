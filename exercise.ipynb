{
 "cells": [
  {
   "cell_type": "markdown",
   "id": "d007c1e0",
   "metadata": {},
   "source": [
    "Scoreboard"
   ]
  },
  {
   "cell_type": "code",
   "execution_count": null,
   "id": "219fee12",
   "metadata": {},
   "outputs": [],
   "source": [
    "def scoreboard(score_string: str) -> list[int]:\n",
    "    score = []\n",
    "    strings = score_string.split()\n",
    "    numbers = {\"nil\": 0, \"one\": 1, \"two\": 2, \"three\": 3, \"four\": 4, \"five\": 5, \"six\": 6, \"seven\": 7, \"eight\": 8, \"nine\": 9}\n",
    "    for s in strings:\n",
    "        for x in numbers:\n",
    "            if x == s:\n",
    "                score.append(x)\n",
    "    return [numbers.get(score[0]), numbers.get(score[1])]\n"
   ]
  },
  {
   "cell_type": "code",
   "execution_count": 37,
   "id": "873ebd2e",
   "metadata": {},
   "outputs": [
    {
     "data": {
      "text/plain": [
       "[4, 0]"
      ]
     },
     "execution_count": 37,
     "metadata": {},
     "output_type": "execute_result"
    }
   ],
   "source": [
    "scoreboard(\"The score is four nil\")\n",
    "#scoreboard(\"new score: two three\")\n",
    "#scoreboard(\"two two\")\n",
    "#scoreboard(\"Arsenal just conceded another goal, two nil\")"
   ]
  },
  {
   "cell_type": "markdown",
   "id": "eca3407c",
   "metadata": {},
   "source": [
    "Filter"
   ]
  },
  {
   "cell_type": "code",
   "execution_count": 68,
   "id": "db91b208",
   "metadata": {},
   "outputs": [],
   "source": [
    "def filter_list(l):\n",
    "    result = []\n",
    "    for x in l:\n",
    "        if type(x) is int:\n",
    "            result.append(x)\n",
    "    return result\n"
   ]
  },
  {
   "cell_type": "code",
   "execution_count": 71,
   "id": "275d4256",
   "metadata": {},
   "outputs": [
    {
     "data": {
      "text/plain": [
       "[1, 2, 123]"
      ]
     },
     "execution_count": 71,
     "metadata": {},
     "output_type": "execute_result"
    }
   ],
   "source": [
    "filter_list([1, 2, 'aasf', '1', '123', 123])\n"
   ]
  },
  {
   "cell_type": "markdown",
   "id": "8042a16a",
   "metadata": {},
   "source": [
    "Min Max aus Str"
   ]
  },
  {
   "cell_type": "code",
   "execution_count": null,
   "id": "ec9e2e45",
   "metadata": {},
   "outputs": [],
   "source": [
    "def high_and_low(numbers):\n",
    "    str = numbers.split()\n",
    "    x = [int(n) for n in str]\n",
    "    mini = min(x)\n",
    "    maxi = max(x)\n",
    "    return f\"{maxi} {mini}\"\n"
   ]
  },
  {
   "cell_type": "code",
   "execution_count": 102,
   "id": "f74711f9",
   "metadata": {},
   "outputs": [
    {
     "data": {
      "text/plain": [
       "'-9 42'"
      ]
     },
     "execution_count": 102,
     "metadata": {},
     "output_type": "execute_result"
    }
   ],
   "source": [
    "high_and_low(\"8 3 -5 42 -1 0 0 -9 4 7 4 -4\")"
   ]
  },
  {
   "cell_type": "markdown",
   "id": "be0c519a",
   "metadata": {},
   "source": [
    "Coffee"
   ]
  },
  {
   "cell_type": "code",
   "execution_count": 113,
   "id": "279eadd5",
   "metadata": {},
   "outputs": [],
   "source": [
    "def divisible_count(x, y, k):\n",
    "    result = []\n",
    "    for i in range(x,y+1):\n",
    "        if i % k == 0:\n",
    "            result.append(i)\n",
    "    return len(result)"
   ]
  },
  {
   "cell_type": "code",
   "execution_count": 114,
   "id": "1dc826b5",
   "metadata": {},
   "outputs": [
    {
     "data": {
      "text/plain": [
       "3"
      ]
     },
     "execution_count": 114,
     "metadata": {},
     "output_type": "execute_result"
    }
   ],
   "source": [
    "divisible_count(6,11,2)\n"
   ]
  },
  {
   "cell_type": "markdown",
   "id": "61009d9a",
   "metadata": {},
   "source": [
    "Variance"
   ]
  },
  {
   "cell_type": "code",
   "execution_count": null,
   "id": "1483b12c",
   "metadata": {},
   "outputs": [],
   "source": [
    "def variance(numbers): \n",
    "    mean = sum(numbers)/len(numbers)\n",
    "    num = [(x-mean)**2 for x in numbers ]\n",
    "    return sum(num) / len(num)\n"
   ]
  },
  {
   "cell_type": "code",
   "execution_count": 128,
   "id": "39aeb6da",
   "metadata": {},
   "outputs": [
    {
     "data": {
      "text/plain": [
       "200.0"
      ]
     },
     "execution_count": 128,
     "metadata": {},
     "output_type": "execute_result"
    }
   ],
   "source": [
    "variance([-10, 0, 10, 20, 30])"
   ]
  },
  {
   "cell_type": "markdown",
   "id": "d059e8ee",
   "metadata": {},
   "source": [
    "Reverse Words"
   ]
  },
  {
   "cell_type": "code",
   "execution_count": null,
   "id": "f35d31d8",
   "metadata": {},
   "outputs": [],
   "source": [
    "def reverse_words(text):\n",
    "    string = text.split()\n",
    "    result = []\n",
    "    for i in string:\n",
    "        result.append(i[::-1])\n",
    "    return result"
   ]
  },
  {
   "cell_type": "code",
   "execution_count": 167,
   "id": "223ed2d1",
   "metadata": {},
   "outputs": [],
   "source": [
    "def reverse_words(text):\n",
    "    # Split an jedem einfachen ' ' (Space), liefert auch leere Strings\n",
    "    parts = text.split(' ')\n",
    "    print(parts)\n",
    "    # Jedes Teil-Element umdrehen\n",
    "    reversed_parts = [part[::-1] for part in parts]\n",
    "    # Wieder mit ' ' zu einem String zusammenfügen\n",
    "    return ' '.join(reversed_parts)\n",
    "\n"
   ]
  },
  {
   "cell_type": "code",
   "execution_count": 168,
   "id": "7ced0b18",
   "metadata": {},
   "outputs": [
    {
     "name": "stdout",
     "output_type": "stream",
     "text": [
      "['The', 'quick', 'brown', 'fox', 'jumps', 'over', 'the', 'lazy', 'dog.']\n",
      "['double', '', 'spaces']\n"
     ]
    },
    {
     "data": {
      "text/plain": [
       "'elbuod  secaps'"
      ]
     },
     "execution_count": 168,
     "metadata": {},
     "output_type": "execute_result"
    }
   ],
   "source": [
    "reverse_words('The quick brown fox jumps over the lazy dog.')\n",
    "reverse_words(\"double  spaces\")"
   ]
  },
  {
   "cell_type": "code",
   "execution_count": null,
   "id": "c8b1490f",
   "metadata": {},
   "outputs": [],
   "source": [
    "def number2words(n):\n",
    "    dic = {0: \"zero\", 1: \"one\" , 2 : \"two\", 3: \"three\", 4: \"four\", 5: \"five\", 6: \"six\", 7: \"seven\", 8: \"eight\", 9: \"nine\", 10: \"ten\",\n",
    "            11: \"eleven\", 12: \"twelve\", 13: \"thirteen\", 14: \"fourteen\", 15: \"fithteen\", 16: \"sixteen\", 17: \"seventeen\", 18: \"eightteen\", 19: \"nineteen\",\n",
    "            20: \"twenty\", 30: \"thirty\", 40: \"fourty\", 50: \"fifthy\", 60: \"sixty\", 70: \"seventy\", 80: \"eighty\", 90: \"ninety\"\n",
    "            }\n",
    "    string = str(n)\n",
    "\n",
    "    if n in dic:\n",
    "        return dic[n]\n",
    "    if len(string) == 2 :\n",
    "        zehner = int(string[0]) * 10\n",
    "        if int(string[1]) != 0:\n",
    "            einer = int(string[1])\n",
    "        return f\"{dic[zehner]}-{dic[einer]}\"\n",
    "    if len(string) == 3 :\n",
    "        hunderter = number2words(int(string[:-2])) \n",
    "        if int(string[1:]) != 0:\n",
    "            zehner = number2words(int(string[1:]))\n",
    "            return f\"{hunderter} hundred {zehner}\"\n",
    "        else:\n",
    "            return f\"{hunderter} hundred\"\n",
    "    if len(string) > 3:\n",
    "        thousander = number2words(int(string[:-3]))\n",
    "        if int(string[-3:]) != 0:\n",
    "            under = number2words(int(string[-3:]))\n",
    "            return f\"{thousander} thousand {under}\"\n",
    "        else:\n",
    "            return f\"{thousander} thousand\"\n",
    "    "
   ]
  },
  {
   "cell_type": "code",
   "execution_count": null,
   "id": "a87d32a3",
   "metadata": {},
   "outputs": [],
   "source": [
    "number2words(0)  ==>  \"zero\"\n",
    "number2words(1)  ==>  \"one\"\n",
    "number2words(9)  ==>  \"nine\"\n",
    "number2words(10)  ==>  \"ten\"\n",
    "number2words(17)  ==>  \"seventeen\"\n",
    "number2words(20)  ==>  \"twenty\"\n",
    "number2words(21)  ==>  \"twenty-one\"\n",
    "number2words(45)  ==>  \"forty-five\"\n",
    "number2words(80)  ==>  \"eighty\"\n",
    "number2words(99)  ==>  \"ninety-nine\"\n",
    "number2words(100)  ==>  \"one hundred\"\n",
    "number2words(301)  ==>  \"three hundred one\"\n",
    "number2words(799)  ==>  \"seven hundred ninety-nine\"\n",
    "number2words(800)  ==>  \"eight hundred\"\n",
    "number2words(950)  ==>  \"nine hundred fifty\"\n",
    "number2words(1000)  ==>  \"one thousand\"\n",
    "number2words(1002)  ==>  \"one thousand two\"\n",
    "number2words(3051)  ==>  \"three thousand fifty-one\"\n",
    "number2words(7200)  ==>  \"seven thousand two hundred\"\n",
    "number2words(7219)  ==>  \"seven thousand two hundred nineteen\"\n",
    "number2words(8330)  ==>  \"eight thousand three hundred thirty\"\n",
    "number2words(99999)  ==>  \"ninety-nine thousand nine hundred ninety-nine\"\n",
    "number2words(888888)  ==>  \"eight hundred eighty-eight thousand eight hundred eighty-eight\""
   ]
  },
  {
   "cell_type": "code",
   "execution_count": 428,
   "id": "c1740fb1",
   "metadata": {},
   "outputs": [
    {
     "data": {
      "text/plain": [
       "'eight hundred eighty-eight thousand eight hundred eighty-eight'"
      ]
     },
     "execution_count": 428,
     "metadata": {},
     "output_type": "execute_result"
    }
   ],
   "source": [
    "\n",
    "number2words(888888)  \n",
    " "
   ]
  },
  {
   "cell_type": "markdown",
   "id": "74aa5b0e",
   "metadata": {},
   "source": [
    "String in String "
   ]
  },
  {
   "cell_type": "code",
   "execution_count": 454,
   "id": "32b1c1e8",
   "metadata": {},
   "outputs": [],
   "source": [
    "def name_in_str(strng : str, name : str) -> bool:\n",
    "    strng = strng.replace(\" \",\"\")\n",
    "    strng = strng.lower()\n",
    "    name = name.lower()\n",
    "    for n in name:\n",
    "        found = strng.find(n)\n",
    "        if found == -1:\n",
    "            return False\n",
    "        else:\n",
    "            strng = strng[found+1:]\n",
    "    return True\n",
    "        \n"
   ]
  },
  {
   "cell_type": "code",
   "execution_count": 453,
   "id": "da214ecf",
   "metadata": {},
   "outputs": [
    {
     "data": {
      "text/plain": [
       "True"
      ]
     },
     "execution_count": 453,
     "metadata": {},
     "output_type": "execute_result"
    }
   ],
   "source": [
    "name_in_str(\"pippippi\",\"Pippi\")"
   ]
  },
  {
   "cell_type": "markdown",
   "id": "6973b1d9",
   "metadata": {},
   "source": [
    "Data Frame"
   ]
  },
  {
   "cell_type": "code",
   "execution_count": null,
   "id": "1f083f2d",
   "metadata": {},
   "outputs": [],
   "source": [
    "import pandas as pd\n",
    "\n",
    "def max_common(df_a, df_b): \n",
    "    cola = df_a.columns.tolist()\n",
    "    colb = df_b.columns.tolist()\n",
    "    for a in \n",
    "    pass"
   ]
  },
  {
   "cell_type": "code",
   "execution_count": 468,
   "id": "1610797a",
   "metadata": {},
   "outputs": [
    {
     "ename": "AttributeError",
     "evalue": "'list' object has no attribute 'intersection'",
     "output_type": "error",
     "traceback": [
      "\u001b[31m---------------------------------------------------------------------------\u001b[39m",
      "\u001b[31mAttributeError\u001b[39m                            Traceback (most recent call last)",
      "\u001b[36mCell\u001b[39m\u001b[36m \u001b[39m\u001b[32mIn[468]\u001b[39m\u001b[32m, line 4\u001b[39m\n\u001b[32m      1\u001b[39m df_a = pd.DataFrame(data=[[\u001b[32m2.5\u001b[39m, \u001b[32m2.0\u001b[39m, \u001b[32m2.0\u001b[39m], [\u001b[32m2.0\u001b[39m, \u001b[32m2.0\u001b[39m, \u001b[32m2.0\u001b[39m]], columns=\u001b[38;5;28mlist\u001b[39m(\u001b[33m'\u001b[39m\u001b[33mABC\u001b[39m\u001b[33m'\u001b[39m))\n\u001b[32m      2\u001b[39m df_b = pd.DataFrame(data=[[\u001b[32m1.0\u001b[39m, \u001b[32m6.0\u001b[39m, \u001b[32m7.0\u001b[39m, \u001b[32m1.0\u001b[39m], [\u001b[32m8.5\u001b[39m, \u001b[32m1.0\u001b[39m, \u001b[32m9.0\u001b[39m, \u001b[32m1.0\u001b[39m]], columns=\u001b[38;5;28mlist\u001b[39m(\u001b[33m'\u001b[39m\u001b[33mCBDE\u001b[39m\u001b[33m'\u001b[39m))\n\u001b[32m----> \u001b[39m\u001b[32m4\u001b[39m \u001b[43mmax_common\u001b[49m\u001b[43m(\u001b[49m\u001b[43mdf_a\u001b[49m\u001b[43m,\u001b[49m\u001b[43m \u001b[49m\u001b[43mdf_b\u001b[49m\u001b[43m)\u001b[49m\n",
      "\u001b[36mCell\u001b[39m\u001b[36m \u001b[39m\u001b[32mIn[467]\u001b[39m\u001b[32m, line 6\u001b[39m, in \u001b[36mmax_common\u001b[39m\u001b[34m(df_a, df_b)\u001b[39m\n\u001b[32m      4\u001b[39m cola = df_a.columns.tolist()\n\u001b[32m      5\u001b[39m colb = df_b.columns.tolist()\n\u001b[32m----> \u001b[39m\u001b[32m6\u001b[39m \u001b[38;5;28;01mreturn\u001b[39;00m \u001b[43mcola\u001b[49m\u001b[43m.\u001b[49m\u001b[43mintersection\u001b[49m(colb)\n\u001b[32m      7\u001b[39m \u001b[38;5;28;01mpass\u001b[39;00m\n",
      "\u001b[31mAttributeError\u001b[39m: 'list' object has no attribute 'intersection'"
     ]
    }
   ],
   "source": [
    "df_a = pd.DataFrame(data=[[2.5, 2.0, 2.0], [2.0, 2.0, 2.0]], columns=list('ABC'))\n",
    "df_b = pd.DataFrame(data=[[1.0, 6.0, 7.0, 1.0], [8.5, 1.0, 9.0, 1.0]], columns=list('CBDE'))\n",
    "\n",
    "max_common(df_a, df_b)"
   ]
  }
 ],
 "metadata": {
  "kernelspec": {
   "display_name": "base",
   "language": "python",
   "name": "python3"
  },
  "language_info": {
   "codemirror_mode": {
    "name": "ipython",
    "version": 3
   },
   "file_extension": ".py",
   "mimetype": "text/x-python",
   "name": "python",
   "nbconvert_exporter": "python",
   "pygments_lexer": "ipython3",
   "version": "3.12.2"
  }
 },
 "nbformat": 4,
 "nbformat_minor": 5
}
