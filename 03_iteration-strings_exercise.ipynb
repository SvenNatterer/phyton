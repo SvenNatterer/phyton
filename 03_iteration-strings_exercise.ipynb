{
 "cells": [
  {
   "cell_type": "markdown",
   "id": "f86ae484-7b16-40e8-86af-c0ba77e2f371",
   "metadata": {},
   "source": [
    "# Exercises for Introduction to Python for Data Science\n",
    "\n",
    "Week 03 - Iteration & Strings\n",
    "\n",
    "Matthias Feurer and Andreas Bender  \n",
    "2026-01-05"
   ]
  },
  {
   "cell_type": "markdown",
   "id": "b2e93b2e-0a37-4f66-b271-6bf368acdfe0",
   "metadata": {},
   "source": [
    "# Exercise 1\n",
    "\n",
    "In the previous problem set you wrote a function that calculates the\n",
    "BMI.\n",
    "\n",
    "Improve the Docstring such that it contains usage examples that are run\n",
    "when using `run_doctest`."
   ]
  },
  {
   "cell_type": "code",
   "execution_count": 3,
   "id": "8fd07de9",
   "metadata": {},
   "outputs": [],
   "source": [
    "from doctest import run_docstring_examples\n",
    "\n",
    "def run_doctests(func):\n",
    "    run_docstring_examples(func, globals(), name=func.__name__)"
   ]
  },
  {
   "cell_type": "code",
   "execution_count": null,
   "id": "721e4e47",
   "metadata": {},
   "outputs": [],
   "source": [
    "def calc_bmi(height, weight):\n",
    "    \"\"\"Checks the function delivers the expected output \n",
    "    >>> calc_bmi(186, 86)\n",
    "    24.86\n",
    "    >>> calc_bmi(100, 86)\n",
    "    86.0\n",
    "    \"\"\"\n",
    "    height /= 100\n",
    "    bmi = weight / height**2\n",
    "    return round(bmi, 2)\n"
   ]
  },
  {
   "cell_type": "code",
   "execution_count": 5,
   "id": "a67d94f0",
   "metadata": {},
   "outputs": [],
   "source": [
    "run_doctests(calc_bmi)"
   ]
  },
  {
   "cell_type": "markdown",
   "id": "2bd72088-f6d1-4252-a08e-fe06889ed0ca",
   "metadata": {},
   "source": [
    "# Exercise 2\n",
    "\n",
    "Write a function called `count_vowels` that takes a string as input and\n",
    "returns the number of vowels (a, e, i, o, u) in the string. Use a for\n",
    "loop to iterate through the string."
   ]
  },
  {
   "cell_type": "code",
   "execution_count": 18,
   "id": "e29c24c1",
   "metadata": {},
   "outputs": [],
   "source": [
    "def count_vowels(string):\n",
    "    string = string.lower()\n",
    "    i = 0\n",
    "    for s in string[0:]: \n",
    "        if s in ('a', 'e', 'i', 'o', 'u'):\n",
    "            i += 1\n",
    "    return(i)\n",
    "    "
   ]
  },
  {
   "cell_type": "code",
   "execution_count": 19,
   "id": "ce9ba624",
   "metadata": {},
   "outputs": [
    {
     "data": {
      "text/plain": [
       "2"
      ]
     },
     "execution_count": 19,
     "metadata": {},
     "output_type": "execute_result"
    }
   ],
   "source": [
    "count_vowels(\"hEllo\")"
   ]
  },
  {
   "cell_type": "markdown",
   "id": "7fc1e78a-e1ce-49d8-8077-f53a5ccce4bc",
   "metadata": {},
   "source": [
    "# Exercise 3\n",
    "\n",
    "Write a function called `guess_number` that implements a simple number\n",
    "guessing game. The function should:\n",
    "\n",
    "-   Generate a random number between 1 and 20 (inclusive)\n",
    "-   Use a while loop to let the user keep guessing until they get it\n",
    "    right\n",
    "-   Return the number of attempts it took to guess correctly.\n",
    "-   Note: You can use the `input` function to get user input.\n",
    "\n",
    "Note: You can use the `random` module’s `randint` function."
   ]
  },
  {
   "cell_type": "code",
   "execution_count": 4,
   "id": "aa046619",
   "metadata": {},
   "outputs": [],
   "source": [
    "import random\n",
    "\n",
    "\n",
    "def  guess_number():\n",
    "    guess = 0\n",
    "    random_number = random.randint(1, 20)\n",
    "    attempt = 0\n",
    "    while guess != random_number:\n",
    "        attempt += 1\n",
    "        guess = int(input(\"Schätzung\"))\n",
    "\n",
    "    return(attempt)\n",
    "\n",
    "        \n"
   ]
  },
  {
   "cell_type": "code",
   "execution_count": 6,
   "id": "45801122",
   "metadata": {},
   "outputs": [
    {
     "data": {
      "text/plain": [
       "9"
      ]
     },
     "execution_count": 6,
     "metadata": {},
     "output_type": "execute_result"
    }
   ],
   "source": [
    "guess_number()"
   ]
  },
  {
   "cell_type": "markdown",
   "id": "8b216917-d137-49be-ae87-2bc1dec49d56",
   "metadata": {},
   "source": [
    "# Exercise 4\n",
    "\n",
    "Write a function called `is_palindrome` that takes a string as input and\n",
    "returns `True` if the string is a palindrome (reads the same forwards\n",
    "and backwards), and `False` otherwise. The function should:\n",
    "\n",
    "-   Ignore spaces, punctuation, and letter case\n",
    "-   Handle both single words and phrases\n",
    "-   Return a boolean value\n",
    "\n",
    "For example:\n",
    "\n",
    "-   “radar” → True\n",
    "-   “A man a plan a canal Panama” → True\n",
    "-   “race a car” → False"
   ]
  },
  {
   "cell_type": "code",
   "execution_count": null,
   "id": "d5621503",
   "metadata": {},
   "outputs": [],
   "source": [
    "import string\n",
    "def is_palindrome(string1):\n",
    "    string1 = string1.replace(\" \", \"\")\n",
    "    string1 = string1.lower()\n",
    "    for ch in string.punctuation:\n",
    "        string1 = string1.replace(ch, \"\")\n",
    "    rev_string = string1[::-1]\n",
    "    return(string1 == rev_string)\n",
    "\n",
    "is_palindrome(\"radar\")"
   ]
  },
  {
   "cell_type": "markdown",
   "id": "4b2c436f-8944-4a41-ae4f-6137e10090fc",
   "metadata": {},
   "source": [
    "# Exercise 5\n",
    "\n",
    "Write a function called `rotate_word` that takes a string and an integer\n",
    "as parameters, and returns a new string that contains the letters from\n",
    "the original string rotated by the given amount (Caesar cipher).\n",
    "\n",
    "The function should:\n",
    "\n",
    "-   Rotate each letter forward in the alphabet by the specified amount\n",
    "-   Wrap around to the beginning of the alphabet if necessary\n",
    "-   Preserve case (uppercase stays uppercase, lowercase stays lowercase)\n",
    "-   Leave non-letter characters unchanged\n",
    "-   Note: You can extract an character’s ASCII position with `ord(char)`\n",
    "-   Note: You can convert an ASCII position back to a character with\n",
    "    `chr(position)`\n",
    "\n",
    "ASCII positions for reference:\n",
    "\n",
    "    Uppercase: A  B  C  D  E  F  G  H  I  J  K  L  M  N  O  P  Q  R  S  T  U  V  W  X  Y  Z\n",
    "    Position: 65 66 67 68 69 70 71 72 73 74 75 76 77 78 79 80 81 82 83 84 85 86 87 88 89 90\n",
    "\n",
    "    Lowercase: a   b   c   d   e   f   g   h   i   j   k   l   m   n   o   p   q   r   s   t   u   v   w   x   y   z\n",
    "    Position: 97  98  99  100 101 102 103 104 105 106 107 108 109 110 111 112 113 114 115 116 117 118 119 120 121 122\n",
    "\n",
    "For example:\n",
    "\n",
    "-   rotate_word(‘cheer’, 7) → ‘jolly’\n",
    "-   rotate_word(‘HAL’, 1) → ‘IBM’\n",
    "-   rotate_word(‘z’, 1) → ‘a’"
   ]
  },
  {
   "cell_type": "code",
   "execution_count": 24,
   "id": "c9c63cc3",
   "metadata": {},
   "outputs": [],
   "source": [
    "def rotate_word(word, number):\n",
    "    ''' \n",
    "    >>> rotate_word('cheer', 7)\n",
    "    'jolly'\n",
    "    >>> rotate_word('HAL', 1)\n",
    "    'IBM'\n",
    "    >>> rotate_word('z', 1)\n",
    "    'a'\n",
    "    '''\n",
    "    i = 0\n",
    "    result = ''\n",
    "    for char in word[::1]:\n",
    "        if char.isupper():\n",
    "            base  = ord('A')\n",
    "        else:\n",
    "            base = ord('a')\n",
    "        num = (ord(char) - base + number) % 26\n",
    "        result += chr(num + base)\n",
    "    return result\n",
    "\n",
    "run_doctests(rotate_word)\n"
   ]
  },
  {
   "cell_type": "markdown",
   "id": "72b94c1d-47ad-47fb-bf26-d2b77d7fb8e4",
   "metadata": {},
   "source": [
    "# Exercise 6\n",
    "\n",
    "Write a function called `find_first` that takes two strings as\n",
    "parameters: a main string and a substring to search for. The function\n",
    "should return the index of the first occurrence of the substring in the\n",
    "main string. The function should:\n",
    "\n",
    "-   Return -1 if the substring is not found\n",
    "-   Be case-sensitive\n",
    "\n",
    "For example:\n",
    "\n",
    "-   find_first(‘banana’, ‘ana’) → 1\n",
    "-   find_first(‘python’, ‘fun’) → -1\n",
    "-   find_first(‘hello’, ‘l’) → 2"
   ]
  },
  {
   "cell_type": "code",
   "execution_count": null,
   "id": "b58ed8de",
   "metadata": {},
   "outputs": [],
   "source": [
    "def find_first(str, sub_str):\n",
    "    ''' \n",
    "    >>> find_first('banana', 'ana')\n",
    "    1\n",
    "    >>> find_first('phyton', 'fun')\n",
    "    -1\n",
    "    >>> find_first('hello', 'l')\n",
    "    2\n",
    "    '''\n",
    "    boolian = []\n",
    "    for chr in range(len(str) - len(sub_str) + 1):\n",
    "        for eq in range(len(sub_str)):\n",
    "            boolian = str[chr + eq] == sub_str[eq]\n",
    "            if boolian == False:\n",
    "                break\n",
    "        if boolian == True:\n",
    "            return chr\n",
    "    return -1\n",
    "\n",
    "run_doctests(find_first)"
   ]
  },
  {
   "cell_type": "markdown",
   "id": "3f6331bb-c923-46e4-98ca-863803681a9a",
   "metadata": {},
   "source": [
    "# Exercise 7\n",
    "\n",
    "Write a function called `count_pattern` that reads a text and counts how\n",
    "many times a given regular expression pattern appears in the text.\n",
    "\n",
    "The function should:\n",
    "\n",
    "-   Take a regular expression pattern and a file path as parameters\n",
    "-   Open and read the text file\n",
    "-   Find all occurrences of the pattern\n",
    "-   Return the total count as integer\n",
    "\n",
    "For example, answer the following questions using the text file\n",
    "`demolition-man.txt`:\n",
    "\n",
    "-   How many times does “John Spartan” appear in the text?\n",
    "-   How many times does the digit 4 appear in the text?\n",
    "-   How many times does the word “Spartan” appear in the text, ignoring\n",
    "    case?\n",
    "-   How many “actions” are performed by a character (e.g. John Spartan)?\n",
    "    An action is defined by the (sur)name of the character (all caps)\n",
    "    being encapsulated by an empty line above and below."
   ]
  },
  {
   "cell_type": "code",
   "execution_count": null,
   "id": "ab59f6ef",
   "metadata": {},
   "outputs": [],
   "source": []
  }
 ],
 "metadata": {
  "kernelspec": {
   "display_name": "base",
   "language": "python",
   "name": "python3"
  },
  "language_info": {
   "codemirror_mode": {
    "name": "ipython",
    "version": 3
   },
   "file_extension": ".py",
   "mimetype": "text/x-python",
   "name": "python",
   "nbconvert_exporter": "python",
   "pygments_lexer": "ipython3",
   "version": "3.12.2"
  }
 },
 "nbformat": 4,
 "nbformat_minor": 5
}
