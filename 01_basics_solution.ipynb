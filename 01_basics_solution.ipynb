{
  "cells": [
    {
      "cell_type": "markdown",
      "id": "395f2df5-0808-437f-b5fe-7a7f738afbea",
      "metadata": {},
      "source": [
        "# Exercises for Introduction to Python for Data Science\n",
        "\n",
        "Week 01 - Introduction\n",
        "\n",
        "Matthias Feurer and Andreas Bender  \n",
        "2025-04-29"
      ]
    },
    {
      "cell_type": "markdown",
      "id": "54f1bbfc-a60e-441d-9cda-c43d2de99bd8",
      "metadata": {},
      "source": [
        "# Exercise 1 - Exercise 1.9.2 from the book\n",
        "\n",
        "You might wonder what round does if a number ends in 0.5. The answer is\n",
        "that it sometimes rounds up and sometimes rounds down. Try these\n",
        "examples and see if you can figure out what rule it follows."
      ]
    },
    {
      "cell_type": "code",
      "execution_count": 1,
      "id": "8f99d496",
      "metadata": {},
      "outputs": [
        {
          "data": {
            "text/plain": [
              "42"
            ]
          },
          "metadata": {},
          "output_type": "display_data"
        }
      ],
      "source": [
        "round(42.5)"
      ]
    },
    {
      "cell_type": "code",
      "execution_count": 2,
      "id": "99061056",
      "metadata": {},
      "outputs": [
        {
          "data": {
            "text/plain": [
              "44"
            ]
          },
          "metadata": {},
          "output_type": "display_data"
        }
      ],
      "source": [
        "round(44)"
      ]
    },
    {
      "cell_type": "markdown",
      "id": "e51f831d-6615-4c6c-bf30-0748639f0934",
      "metadata": {},
      "source": [
        "If you are curious, ask a virtual assistant, “If a number ends in 0.5,\n",
        "does Python round up or down?”"
      ]
    },
    {
      "cell_type": "markdown",
      "id": "853931da-559b-49ca-aab0-884ad1fb6937",
      "metadata": {},
      "source": [
        "## Solution Exercise 1\n",
        "\n",
        "The \\[Python docs\\] state: if two multiples are equally close, rounding\n",
        "is done toward the even choice (so, for example, both `round(0.5)` and\n",
        "`round(-0.5)` are `0`, and `round(1.5)` is `2`). In contrast, this is\n",
        "ChatGPT’s answer:\n",
        "\n",
        "> Python’s built-in round() doesn’t always “round .5 up” or “round .5\n",
        "> down” in the usual sense; it uses banker’s rounding (a.k.a. “round\n",
        "> half to even”). That means when the fractional part is exactly 0.5, it\n",
        "> rounds to the nearest even integer:"
      ]
    },
    {
      "cell_type": "markdown",
      "id": "6fcce0a9-950f-410a-98e9-2125d83293da",
      "metadata": {},
      "source": [
        "# Exercise 2 - Exercise 1.9.3 from the book\n",
        "\n",
        "When you learn about a new feature, you should try it out and make\n",
        "mistakes on purpose. That way, you learn the error messages, and when\n",
        "you see them again, you will know what they mean. It is better to make\n",
        "mistakes now and deliberately than later and accidentally.\n",
        "\n",
        "1.  You can use a minus sign to make a negative number like `-2`. What\n",
        "    happens if you put a plus sign before a number? What about `2++2`?\n",
        "2.  What happens if you have two values with no operator between them,\n",
        "    like `4 2`?\n",
        "3.  If you call a function like `round(42.5)`, what happens if you leave\n",
        "    out one or both parentheses?"
      ]
    },
    {
      "cell_type": "markdown",
      "id": "1a00abe9-f318-4de5-8899-be38ca092bc0",
      "metadata": {},
      "source": [
        "## Solution Exercise 2\n",
        "\n",
        "1.  If there is only a single number, this is the recursive application\n",
        "    of unary `+` or `-` operators, and the can be repeated as often as\n",
        "    wanted. If there are two numbers, the first arithmetic operator is\n",
        "    treated as a binary operator, and the following one(s) as unary\n",
        "    operators.\n",
        "2.  `SyntaxError: invalid syntax`.\n",
        "3.  `SyntaxError: invalid syntax`"
      ]
    },
    {
      "cell_type": "markdown",
      "id": "52b7e042-bf73-47ee-b154-b8bd0e1713c1",
      "metadata": {},
      "source": [
        "# Exercise 3 - Exercise 1.9.4 from the book\n",
        "\n",
        "Recall that every expression has a value, every value has a type, and we\n",
        "can use the type function to find the type of any value.\n",
        "\n",
        "What is the type of the value of the following expressions? Make your\n",
        "best guess for each one, and then use type to find out.\n",
        "\n",
        "-   `765`\n",
        "-   `2.718`\n",
        "-   `'2 pi'`\n",
        "-   `abs(-7)`\n",
        "-   `abs(-7.0)`\n",
        "-   `abs`\n",
        "-   `int`\n",
        "-   `type`"
      ]
    },
    {
      "cell_type": "markdown",
      "id": "72bbe29b-ee57-47f6-8109-0fadb212592c",
      "metadata": {},
      "source": [
        "## Solution Exercise 3"
      ]
    },
    {
      "cell_type": "code",
      "execution_count": 3,
      "id": "aaed2d72",
      "metadata": {},
      "outputs": [
        {
          "name": "stdout",
          "output_type": "stream",
          "text": [
            "<class 'int'>\n",
            "<class 'float'>\n",
            "<class 'str'>\n",
            "<class 'int'>\n",
            "<class 'float'>\n",
            "<class 'builtin_function_or_method'>\n",
            "<class 'type'>\n",
            "<class 'type'>"
          ]
        }
      ],
      "source": [
        "print(type(765))\n",
        "print(type(2.718))\n",
        "print(type('2 pi'))\n",
        "print(type(abs(-7)))\n",
        "print(type(-7.0))\n",
        "print(type(abs))\n",
        "print(type(int))\n",
        "print(type(type))"
      ]
    },
    {
      "cell_type": "markdown",
      "id": "aee32117-dda3-4f99-9671-48db0e7c3995",
      "metadata": {},
      "source": [
        "# Exercise 4 - Exercise 1.9.5 from the book\n",
        "\n",
        "The following questions give you a chance to practice writing arithmetic\n",
        "expressions.\n",
        "\n",
        "-   How many seconds are there in 42 minutes 42 seconds?\n",
        "-   How many miles are there in 10 kilometers? Hint: there are 1.61\n",
        "    kilometers in a mile.\n",
        "-   If you run a 10 kilometer race in 42 minutes 42 seconds, what is\n",
        "    your average pace in seconds per mile?\n",
        "-   What is your average pace in minutes and seconds per mile?\n",
        "-   What is your average speed in miles per hour?\n",
        "\n",
        "If you already know about variables, you can use them for this exercise.\n",
        "If you don’t, you can do the exercise without them – and then we’ll see\n",
        "them in the next chapter."
      ]
    },
    {
      "cell_type": "markdown",
      "id": "39287001-fbda-4090-9ea6-5b01c05d060f",
      "metadata": {},
      "source": [
        "## Solution Exercise 4"
      ]
    },
    {
      "cell_type": "code",
      "execution_count": 4,
      "id": "4380d2d0",
      "metadata": {},
      "outputs": [
        {
          "name": "stdout",
          "output_type": "stream",
          "text": [
            "There are 2562 seconds in 42 minutes and 42 seconds\n",
            "There are 6.211180124223602 kilometers in a mile\n",
            "Pace is 412.482 seconds per mile\n",
            "Pace is 6.0 minutes and 52.48200000000003 seconds per mile\n",
            "Speed is 8.727653570337614 miles per hour"
          ]
        }
      ],
      "source": [
        "print(\"There are\", 42 * 60 + 42, \"seconds in 42 minutes and 42 seconds\")\n",
        "print(\"There are\", 10 / 1.61, \"kilometers in a mile\")\n",
        "dist_in_miles = 10 / 1.61\n",
        "time_in_sec = 42 * 60 + 42\n",
        "print(\"Pace is\", time_in_sec / dist_in_miles, \"seconds per mile\")\n",
        "print(\"Pace is\", (time_in_sec / dist_in_miles) // 60, \"minutes and\", (time_in_sec / dist_in_miles) % 60, \"seconds per mile\")\n",
        "print(\"Speed is\", dist_in_miles / time_in_sec * 3600, \"miles per hour\")"
      ]
    },
    {
      "cell_type": "markdown",
      "id": "1b3e5f12-f542-435c-be3b-d5105b0255a0",
      "metadata": {},
      "source": [
        "# Exercise 5 - Exercise 2.11.2 from the book\n",
        "\n",
        "Repeating my advice from the previous chapter, whenever you learn a new\n",
        "feature, you should make errors on purpose to see what goes wrong.\n",
        "\n",
        "-   We’ve seen that `n = 17` is legal. What about `17 = n`?\n",
        "-   How about `x = y = 1`?\n",
        "-   In some languages every statement ends with a semi-colon (`;`). What\n",
        "    happens if you put a semi-colon at the end of a Python statement?\n",
        "-   What if you put a period at the end of a statement?\n",
        "-   What happens if you spell the name of a module wrong and try to\n",
        "    import `maath`?"
      ]
    },
    {
      "cell_type": "markdown",
      "id": "e6e63abd-2103-4a1f-8727-a5bca218bb91",
      "metadata": {},
      "source": [
        "## Solution Exercise 5"
      ]
    },
    {
      "cell_type": "code",
      "execution_count": 5,
      "id": "8e497e71",
      "metadata": {},
      "outputs": [],
      "source": [
        "# This will not work as 17 is not a legal variable name.\n",
        "17 = n"
      ]
    },
    {
      "cell_type": "code",
      "execution_count": 6,
      "id": "6dd96846",
      "metadata": {},
      "outputs": [
        {
          "name": "stdout",
          "output_type": "stream",
          "text": [
            "1\n",
            "1"
          ]
        }
      ],
      "source": [
        "x = y = 1\n",
        "print(x)\n",
        "print(y)"
      ]
    },
    {
      "cell_type": "code",
      "execution_count": 7,
      "id": "1b261afc",
      "metadata": {},
      "outputs": [
        {
          "name": "stdout",
          "output_type": "stream",
          "text": [
            "This is allowed"
          ]
        }
      ],
      "source": [
        "print(\"This is allowed\");"
      ]
    },
    {
      "cell_type": "code",
      "execution_count": 8,
      "id": "d37335f0",
      "metadata": {},
      "outputs": [],
      "source": [
        "# This will not work as having a period at the end of a statement is forbidden.\n",
        "x = \"This is a string\"."
      ]
    },
    {
      "cell_type": "code",
      "execution_count": 9,
      "id": "edb20e5c",
      "metadata": {},
      "outputs": [],
      "source": [
        "# This will result in a `ModuleNotFoundError`\n",
        "import maath"
      ]
    },
    {
      "cell_type": "markdown",
      "id": "7e29c635-2f43-464d-8725-e6d2a3600df1",
      "metadata": {},
      "source": [
        "# Exercise 6 - Exercise 2.11.3 from the book\n",
        "\n",
        "Practice using the Python interpreter as a calculator:\n",
        "\n",
        "**Part 1.** The volume of a sphere with radius $r$ is\n",
        "$\\frac{4}{3}\\pi r^3$. What is the volume of a sphere with radius 5?\n",
        "Start with a variable named `radius` and then assign the result to a\n",
        "variable named `volume`. Display the result. Add comments to indicate\n",
        "that `radius` is in centimeters and `volume` in cubic centimeters.\n",
        "\n",
        "**Part 2.** A rule of trigonometry says that for any value of\n",
        "$x (cos x)^2 + (sin x)^2 = 1$. Let’s see if it’s true for a specific\n",
        "value of $x$ like 42.\n",
        "\n",
        "Create a variable named `x` with this value. Then use `math.cos` and\n",
        "`math.sin` to compute the sine and cosine of $x$, and the sum of their\n",
        "squared.\n",
        "\n",
        "The result should be close to 1. It might not be exactly 1 because\n",
        "floating-point arithmetic is not exact—it is only approximately correct.\n",
        "\n",
        "**Part 3.** In addition to `pi`, the other variable defined in the math\n",
        "module is `e`, which represents the base of the natural logarithm,\n",
        "written in math notation as $e$. If you are not familiar with this\n",
        "value, ask a virtual assistant “What is math.e?” Now let’s compute $e^2$\n",
        "in three ways:\n",
        "\n",
        "-   Use `math.e` and the exponentiation operator (`**`).\n",
        "-   Use `math.pow` to raise `math.e` to the power `2`.\n",
        "-   Use `math.exp`, which takes as an argument a value, $x$, and\n",
        "    computes $e^x$.\n",
        "\n",
        "You might notice that the last result is slightly different from the\n",
        "other two. See if you can find out which is correct."
      ]
    },
    {
      "cell_type": "markdown",
      "id": "0cd9cd58-bb18-4010-81a9-4b23f1de8144",
      "metadata": {},
      "source": [
        "## Solution Exercise 6"
      ]
    },
    {
      "cell_type": "code",
      "execution_count": 10,
      "id": "7e17d071",
      "metadata": {},
      "outputs": [
        {
          "name": "stdout",
          "output_type": "stream",
          "text": [
            "523.5987755982989"
          ]
        }
      ],
      "source": [
        "# Part 1\n",
        "import math\n",
        "\n",
        "radius = 5  # in centimeters\n",
        "volume = 4 / 3 * math.pi * radius ** 3  # in cubic centimeters\n",
        "print(volume)"
      ]
    },
    {
      "cell_type": "code",
      "execution_count": 11,
      "id": "fa25d308",
      "metadata": {},
      "outputs": [
        {
          "name": "stdout",
          "output_type": "stream",
          "text": [
            "7.559518340459554"
          ]
        }
      ],
      "source": [
        "# Part 2\n",
        "x = 42\n",
        "cos = math.cos(42)\n",
        "sin = math.sin(42)\n",
        "print(x * cos ** 2 + sin ** 2)"
      ]
    },
    {
      "cell_type": "code",
      "execution_count": 12,
      "id": "ea03067e",
      "metadata": {},
      "outputs": [
        {
          "name": "stdout",
          "output_type": "stream",
          "text": [
            "7.3890560989306495\n",
            "7.3890560989306495\n",
            "7.38905609893065"
          ]
        }
      ],
      "source": [
        "# Part 3\n",
        "\n",
        "print(math.e ** 2)\n",
        "print(math.pow(math.e, 2))\n",
        "print(math.exp(2))"
      ]
    },
    {
      "cell_type": "markdown",
      "id": "b804929b-9685-4bb7-83c1-7c19ad32dddd",
      "metadata": {},
      "source": [
        "According to [the\n",
        "docs](https://docs.python.org/3/library/math.html#math.exp), `math.exp`\n",
        "is usually more accurate."
      ]
    },
    {
      "cell_type": "markdown",
      "id": "92d9bd6b-534a-4160-b0a6-37fd74c35096",
      "metadata": {},
      "source": [
        "# Exercise 7 - The documentation\n",
        "\n",
        "In the lecture, the `print()` function inserted a space between two\n",
        "arguments. Your goal is, using the Python documentation, to find out how\n",
        "this behavior can be changed so that the `print()` function inserts a\n",
        "`.` between two arguments. You can start your journey through the Python\n",
        "documentation at <https://www.python.org>."
      ]
    },
    {
      "cell_type": "markdown",
      "id": "d4f56e53-9e5e-40ca-b16e-7fe15b5c7f9f",
      "metadata": {},
      "source": [
        "## Solution Exercise 7\n",
        "\n",
        "Documentation for the print function can be found\n",
        "[here](https://docs.python.org/3/library/functions.html#print)."
      ]
    },
    {
      "cell_type": "code",
      "execution_count": 13,
      "id": "c1a8d7fc",
      "metadata": {},
      "outputs": [
        {
          "name": "stdout",
          "output_type": "stream",
          "text": [
            "A.B.C"
          ]
        }
      ],
      "source": [
        "print(\"A\", \"B\", \"C\", sep=\".\")"
      ]
    },
    {
      "cell_type": "code",
      "execution_count": 1,
      "id": "1554426d",
      "metadata": {},
      "outputs": [
        {
          "data": {
            "text/plain": [
              "4"
            ]
          },
          "execution_count": 1,
          "metadata": {},
          "output_type": "execute_result"
        }
      ],
      "source": [
        "2++2"
      ]
    }
  ],
  "metadata": {
    "kernelspec": {
      "display_name": "base",
      "language": "python",
      "name": "python3"
    },
    "language_info": {
      "codemirror_mode": {
        "name": "ipython",
        "version": 3
      },
      "file_extension": ".py",
      "mimetype": "text/x-python",
      "name": "python",
      "nbconvert_exporter": "python",
      "pygments_lexer": "ipython3",
      "version": "3.12.2"
    }
  },
  "nbformat": 4,
  "nbformat_minor": 5
}
