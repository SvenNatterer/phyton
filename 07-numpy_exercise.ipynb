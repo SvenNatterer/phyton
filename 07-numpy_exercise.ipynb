{
 "cells": [
  {
   "cell_type": "markdown",
   "id": "f98ad665-834e-4cd8-9684-030e71ee9917",
   "metadata": {},
   "source": [
    "# Exercises for Introduction to Python for Data Science\n",
    "\n",
    "Week 07 - Numpy\n",
    "\n",
    "Matthias Feurer and Andreas Bender  \n",
    "2026-05-06"
   ]
  },
  {
   "cell_type": "markdown",
   "id": "4e884e6a-3c12-4bd1-bb6a-32d6e9f3356d",
   "metadata": {},
   "source": [
    "# Exercise 1\n",
    "\n",
    "Write a class that implements a `fit` and a `predict` method. The `fit`\n",
    "method should accept `X` and `y`, i.e., data for a supervised regression\n",
    "task. The `predict` function should accept only `X` and return the\n",
    "predictions for new data.\n",
    "\n",
    "Here’s an outline of the function to get you started.\n",
    "\n",
    "``` python\n",
    "class LinearRegression:\n",
    "    def fit(X, y):\n",
    "        pass\n",
    "        \n",
    "    def predict(X):\n",
    "        pass\n",
    "```\n",
    "\n",
    "You can follow these steps to arrive at a useful solution:\n",
    "\n",
    "1.  In the fit function you are supposed to implement the equations for\n",
    "    a linear regression and store the coefficients as an attribute so\n",
    "    they can later on be used in the predict function.\n",
    "2.  Standardize the data prior to fitting: make sure that X has a\n",
    "    column-wise mean of 0 and a standard deviation of 1, and ensure to\n",
    "    apply the same standardization to the test data.\n",
    "3.  Standardize the targets prior to fitting, and ensure to\n",
    "    de-standardize them again before returning them to the user.\n",
    "\n",
    "NB: use only vectorized operations."
   ]
  },
  {
   "cell_type": "code",
   "execution_count": 47,
   "id": "dcdc863b",
   "metadata": {},
   "outputs": [],
   "source": [
    "import numpy as np\n",
    "\n",
    "class LinearRegression:\n",
    "    def __init__(self):\n",
    "        self.coefficients = None\n",
    "        self.intercept = None\n",
    "\n",
    "        \n",
    "    def fit(self, X, y):\n",
    "        X_centered = X - np.mean(X, axis=0)\n",
    "        y_centered = y - np.mean(y)\n",
    "        self.coefficients = (X_centered.T @ y_centered) / np.sum(X_centered**2, axis=0)\n",
    "        self.intercept = np.mean(y) - self.coefficients @ np.mean(X, axis=0)\n",
    "        \n",
    "        \n",
    "    def predict(X):\n",
    "        pass"
   ]
  },
  {
   "cell_type": "code",
   "execution_count": 52,
   "id": "fd923a53",
   "metadata": {},
   "outputs": [
    {
     "name": "stdout",
     "output_type": "stream",
     "text": [
      "-6.884531590413943\n"
     ]
    }
   ],
   "source": [
    "X = np.array([[1,2,7], [2,4,9], [3,6,1], [4,8,6], [5,8,9]])\n",
    "y = np.array([2, 4, 6, 8, 10])\n",
    "\n",
    "# Modell trainieren\n",
    "model = LinearRegression()\n",
    "model.fit(X, y)\n",
    "print(model.intercept)\n"
   ]
  },
  {
   "cell_type": "markdown",
   "id": "65c598e0-ab62-46af-87b8-3f840450097a",
   "metadata": {},
   "source": [
    "# Exercise 2\n",
    "\n",
    "Simulate random data to try your implementation:\n",
    "\n",
    "1.  sample random coefficients for a linear regression model and compute\n",
    "    targets for a dense list of values `X`.\n",
    "2.  make predictions using the linear regression model you implemented\n",
    "    in exercise 1.\n",
    "3.  compare the learned coefficients with the data generating process,\n",
    "    i.e., the random coefficients from step 1.\n",
    "4.  Compute the RMSE using only vectorized operations."
   ]
  },
  {
   "cell_type": "code",
   "execution_count": null,
   "id": "5aa0a5f0",
   "metadata": {},
   "outputs": [],
   "source": []
  }
 ],
 "metadata": {
  "kernelspec": {
   "display_name": "base",
   "language": "python",
   "name": "python3"
  },
  "language_info": {
   "codemirror_mode": {
    "name": "ipython",
    "version": 3
   },
   "file_extension": ".py",
   "mimetype": "text/x-python",
   "name": "python",
   "nbconvert_exporter": "python",
   "pygments_lexer": "ipython3",
   "version": "3.12.2"
  }
 },
 "nbformat": 4,
 "nbformat_minor": 5
}
