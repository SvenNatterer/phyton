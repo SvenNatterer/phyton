{
  "cells": [
    {
      "cell_type": "markdown",
      "id": "97a3c8bd-2f5d-41d1-b533-c5fc722f7461",
      "metadata": {},
      "source": [
        "# Exercises for Introduction to Python for Data Science\n",
        "\n",
        "Week 05 - Files and Object Oriented Programming\n",
        "\n",
        "Matthias Feurer and Andreas Bender  \n",
        "2027-03-05"
      ]
    },
    {
      "cell_type": "markdown",
      "id": "aa1cf4e4-63c9-4119-8990-18fe5acd0349",
      "metadata": {},
      "source": [
        "# Exercise 1\n",
        "\n",
        "Write a function called `replace_all` that takes as arguments a pattern\n",
        "string, a replacement string, and two filenames. It should read the\n",
        "first file and write the contents into the second file (creating it if\n",
        "necessary). If the pattern string appears anywhere in the contents, it\n",
        "should be replaced with the replacement string.\n",
        "\n",
        "Here’s an outline of the function to get you started.\n",
        "\n",
        "``` python\n",
        "def replace_all(old, new, source_path, dest_path):\n",
        "    # read the contents of the source file, open the file using a context manager\n",
        "\n",
        "    # replace the old string with the new\n",
        "    \n",
        "    # write the result into the destination file\n",
        "```\n",
        "\n",
        "To test your function, read the file `photos/notes.txt`, replace\n",
        "`'photos'` with `'images'`, and write the result to the file\n",
        "photos/new_notes.txt. You can obtain the files `photos/notes.txt` in the\n",
        "zip-file available at\n",
        "<https://github.com/AllenDowney/ThinkPython/blob/v3/photos.zip>."
      ]
    },
    {
      "cell_type": "code",
      "execution_count": 2,
      "id": "8eaf338d",
      "metadata": {},
      "outputs": [],
      "source": [
        "from pathlib import Path\n",
        "def replace_all(pstr, rstr, source_path, destination_path):\n",
        "    source = Path(source_path)\n",
        "    dest = Path(destination_path)\n",
        "    text = source.read_text(encoding='utf-8')\n",
        "    text = text.replace(pstr, rstr)\n",
        "    dest.write_text(text, encoding='utf-8')\n",
        "\n",
        "\n",
        "\n",
        "replace_all(\n",
        "    'photos',\n",
        "    'images',\n",
        "    Path('photos') / 'notes.txt',\n",
        "    Path('photos') / 'new_notes.txt'\n",
        ")"
      ]
    },
    {
      "cell_type": "markdown",
      "id": "3dbc6331-a44a-479c-9c7e-dcc430110074",
      "metadata": {},
      "source": [
        "# Exercise 2\n",
        "\n",
        "In a large collection of files, there may be more than one copy of the\n",
        "same file, stored in different directories or with different file names.\n",
        "The goal of this exercise is to search for duplicates. As an example,\n",
        "we’ll work with image files in the `photos` directory.\n",
        "\n",
        "Here’s how it will work:\n",
        "\n",
        "-   We’ll use the `walk` function to search this directory for files\n",
        "    that end with one of the extensions in `config['extensions']` (hint:\n",
        "    have a look at the config given in the lecture).\n",
        "-   For each file, we’ll use `md5_digest` from Checking for equivalent\n",
        "    files to compute a digest of the contents.\n",
        "-   Using a dict, we’ll make a mapping from each digest to a list of\n",
        "    paths with that digest.\n",
        "-   Finally, we’ll search the dict for any digests that map to multiple\n",
        "    files.\n",
        "-   If we find any, we’ll use function same_contents to confirm that the\n",
        "    files contain the same data.\n",
        "\n",
        "Here are some suggestions on which functions to write first. In a second\n",
        "step, these can be brought together to solve the task above.\n",
        "\n",
        "1.  To identify image files, write a function called `is_image` that\n",
        "    takes a path and a list of file extensions, and returns True if the\n",
        "    path ends with one of the extensions in the list. Hint: Use\n",
        "    `os.path.splitext`. Also: How can this be solved using pathlib?\n",
        "2.  Write a function called `add_path` that takes as arguments a path\n",
        "    and a dict. It should use `md5_digest` to compute a digest of the\n",
        "    file contents. Then it should update the dict, either creating a new\n",
        "    item that maps from the digest to a list containing the path, or\n",
        "    appending the path to the list if it exists. Hint: can you use a\n",
        "    specialized version of dict?\n",
        "3.  Write a function called `walk_images` that takes a dict and a\n",
        "    directory and uses a `walk` function to walk through the files in\n",
        "    the directory and its subdirectories. For each file, it should use\n",
        "    `is_image` to check whether it’s an image file and `add_path` to add\n",
        "    it to the dict.\n",
        "\n",
        "When everything is working, you can use the following program to create\n",
        "the dict, search the `photos` directory and add paths to the shelf, and\n",
        "then check whether there are multiple files with the same digest.\n",
        "\n",
        "``` python\n",
        "walk_images(mapping, 'photos')\n",
        "\n",
        "for digest, paths in mapping.items():\n",
        "    if len(paths) > 1:\n",
        "        print(paths)\n",
        "```\n",
        "\n",
        "You should find one pair of files that have the same digest. Use\n",
        "`same_contents` to check whether they contain the same data.\n",
        "\n",
        "Bonus: if you are eager, you can try to work directly on the zip file\n",
        "(without extracting it) using the\n",
        "[zipfile](https://docs.python.org/3/library/zipfile.html) module.\n",
        "\n",
        "Bonus 2: save the data structure `mapping` using the three storage\n",
        "formats discussed in the lecture: YAML, JSON and pickle. Open each file\n",
        "with the text editor and check its readability."
      ]
    },
    {
      "cell_type": "code",
      "execution_count": 46,
      "id": "c3575e6b",
      "metadata": {},
      "outputs": [
        {
          "name": "stdout",
          "output_type": "stream",
          "text": [
            "False\n",
            "False\n",
            "False\n",
            "True\n",
            "True\n",
            "True\n",
            "True\n",
            "True\n",
            "True\n",
            "True\n",
            "b333069e059c2ecbad897a3b6af564a0\n",
            "96db09071d8ebb3ad2c585982583e4b5\n",
            "259decc87ee8870195d0f7292b5e9bad\n",
            "aa1d2fc25b7ae247b2931f5a0882fa37\n",
            "b25a012550ddc2d5e197defdd7de6595\n",
            "013454e5d7e34dc7c7592860ae649524\n",
            "615e248b94cb9e4e93dde7e8a07f4e7f\n",
            "aa1d2fc25b7ae247b2931f5a0882fa37\n",
            "6a501b11b01f89af9c3f6591d7f02c49\n",
            "dace5bcdd614b5a23e465b1edc406bc3\n"
          ]
        },
        {
          "data": {
            "text/plain": [
              "True"
            ]
          },
          "execution_count": 46,
          "metadata": {},
          "output_type": "execute_result"
        }
      ],
      "source": [
        "import os \n",
        "import hashlib\n",
        "path1 = Path('photos') / 'new_notes.txt'\n",
        "empty_dict = {}\n",
        "\n",
        "def is_image(pth, ext):\n",
        "    end = os.path.splitext(pth)[1]\n",
        "    for ex in ext:\n",
        "        if end == ex:\n",
        "            return True\n",
        "    return False\n",
        "\n",
        "def md5_digest(path):\n",
        "    data = Path(path).read_bytes()\n",
        "    return hashlib.md5(data).hexdigest()\n",
        "\n",
        "def add_path(dic, pth):\n",
        "    dig = md5_digest(pth)\n",
        "    dic[pth] = dig   \n",
        "    return dic\n",
        "\n",
        "def walk_images(dic, dir):\n",
        "    for dirpath, dirnames, filenames in dir.walk():\n",
        "        for filename in filenames:\n",
        "            full_path = os.path.join(dirpath, filename)\n",
        "            print(is_image(full_path, ['.jpg']))\n",
        "            dic = add_path(dic, full_path)\n",
        "    return dic\n",
        "\n",
        "walk_images(empty_dict, Path('photos'))\n",
        "\n",
        "for digest, paths in empty_dict.items():\n",
        "    if len(paths) > 1:\n",
        "        print(paths)\n",
        "\n",
        "\n",
        "def same_contents(path1, path2):\n",
        "    data1 = open(path1, 'rb').read()\n",
        "    data2 = open(path2, 'rb').read()\n",
        "    return data1 == data2\n",
        "\n",
        "same_contents('photos/jan-2023/photo1.jpg', 'photos/mar-2023/photo2.jpg')"
      ]
    },
    {
      "cell_type": "markdown",
      "id": "e5a84e55-e8e9-4b10-8f85-defdcce18bd7",
      "metadata": {},
      "source": [
        "# Exercise 3\n",
        "\n",
        "Write a function called `subtract_time` that takes two `Time` objects\n",
        "and returns the interval between them in seconds – assuming that they\n",
        "are two times during the same day."
      ]
    },
    {
      "cell_type": "code",
      "execution_count": 41,
      "id": "b4103f00",
      "metadata": {},
      "outputs": [
        {
          "data": {
            "text/plain": [
              "5400"
            ]
          },
          "execution_count": 41,
          "metadata": {},
          "output_type": "execute_result"
        }
      ],
      "source": [
        "class Time:\n",
        "    def __init__(self, hours, minutes, seconds):\n",
        "        self.hours = hours\n",
        "        self.minutes = minutes\n",
        "        self.seconds = seconds\n",
        "\n",
        "    \n",
        "    \n",
        "    def to_sec(self):\n",
        "        sec_hour = self.hours * 60 * 60\n",
        "        sec_minute = self.minutes * 60\n",
        "        return self.seconds + sec_hour + sec_minute\n",
        "    \n",
        "    \n",
        "\n",
        "def subtract_time(time1, time2):\n",
        "    time1 = time1.to_sec()\n",
        "    time2 = time2.to_sec()\n",
        "    return abs(time1-time2)\n",
        "    \n",
        "t1 = Time(8,30,0)\n",
        "t2 = Time(7,0,0)\n",
        "subtract_time(t1,t2)\n",
        "\n"
      ]
    },
    {
      "cell_type": "markdown",
      "id": "027aca0d-b260-48c7-9d29-9885d3650856",
      "metadata": {},
      "source": [
        "# Exercise 4\n",
        "\n",
        "Write a function called `is_after` that takes two `Time` objects and\n",
        "returns `True` if the first time is later in the day than the second,\n",
        "and `False` otherwise.\n",
        "\n",
        "``` python\n",
        "def is_after(t1, t2):\n",
        "    \"\"\"Checks whether `t1` is after `t2`.\n",
        "    \n",
        "    >>> is_after(make_time(3, 2, 1), make_time(3, 2, 0))\n",
        "    True\n",
        "    >>> is_after(make_time(3, 2, 1), make_time(3, 2, 1))\n",
        "    False\n",
        "    >>> is_after(make_time(11, 12, 0), make_time(9, 40, 0))\n",
        "    True\n",
        "    \"\"\"\n",
        "    return None\n",
        "```"
      ]
    },
    {
      "cell_type": "code",
      "execution_count": 46,
      "id": "a908bdb4",
      "metadata": {},
      "outputs": [
        {
          "data": {
            "text/plain": [
              "False"
            ]
          },
          "execution_count": 46,
          "metadata": {},
          "output_type": "execute_result"
        }
      ],
      "source": [
        "def is_after(t1, t2):\n",
        "    time1 = t1.to_sec()\n",
        "    time2 = t2.to_sec()\n",
        "    return time1 > time2\n",
        "\n",
        "t3 = Time(3,2,1)\n",
        "\n",
        "t4 = Time(3,2,0)\n",
        "is_after(t4,t3)\n",
        "\n"
      ]
    },
    {
      "cell_type": "markdown",
      "id": "989c5eef-bb76-4afa-8e66-3dbd17eeff00",
      "metadata": {},
      "source": [
        "# Exercise 5\n",
        "\n",
        "Here’s a definition for a `Date` class that represents a date – that is,\n",
        "a year, month, and day of the month.\n",
        "\n",
        "``` python\n",
        "class Date:\n",
        "    \"\"\"Represents a year, month, and day\"\"\"\n",
        "```\n",
        "\n",
        "1.  Write a function called `make_date` that takes `year`, `month`, and\n",
        "    `day` as parameters, makes a `Date` object, assigns the parameters\n",
        "    to attributes, and returns the result the new object. Create an\n",
        "    object that represents June 22, 1933.\n",
        "2.  Write a function called `print_date` that takes a `Date` object,\n",
        "    uses an f-string to format the attributes, and prints the result. If\n",
        "    you test it with the `Date` you created, the result should be\n",
        "    `1933-06-22`.\n",
        "3.  Write a function called `is_after` that takes two `Date` objects as\n",
        "    parameters and returns `True` if the first comes after the second.\n",
        "    Create a second object that represents September 17, 1933, and check\n",
        "    whether it comes after the first object.\n",
        "\n",
        "Hint: You might find it useful to write a function called\n",
        "`date_to_tuple` that takes a Date object and returns a tuple that\n",
        "contains its attributes in year, month, day order."
      ]
    },
    {
      "cell_type": "code",
      "execution_count": null,
      "id": "713c200b",
      "metadata": {},
      "outputs": [
        {
          "name": "stdout",
          "output_type": "stream",
          "text": [
            "1933-6-22\n",
            "1933-6-22\n"
          ]
        },
        {
          "data": {
            "text/plain": [
              "False"
            ]
          },
          "execution_count": 74,
          "metadata": {},
          "output_type": "execute_result"
        }
      ],
      "source": [
        "class Date:\n",
        "    '''Represents a year, month, and a day'''\n",
        "\n",
        "\n",
        "def print_date(date):\n",
        "    print (f'{date.year}-{date.month}-{date.day}')\n",
        "\n",
        "def make_date(y,m,d):\n",
        "    d = Date(y, m, d )\n",
        "    return d\n",
        "\n",
        "def is_after(d1, d2):\n",
        "    if d2.year > d1.year:\n",
        "        return True\n",
        "    if d2.year == d1.year and d2.month > d1.month:\n",
        "        return True\n",
        "    if d2.year == d1.year and d2.month == d1.month and d2.day > d1.day:\n",
        "        return True\n",
        "    return False\n",
        "    \n",
        "\n",
        "date1 = make_date(1933, 6, 22)\n",
        "print_date(date1)\n",
        "date2 = make_date(1933, 6, 22)\n",
        "print_date(date2)\n",
        "is_after(date1,date2)"
      ]
    },
    {
      "cell_type": "markdown",
      "id": "db22d9fb-c866-42ac-9c6e-f422f516324d",
      "metadata": {},
      "source": [
        "# Exercise 6\n",
        "\n",
        "In the previous chapter, a series of exercises asked you to write a\n",
        "`Date` class and several functions that work with `Date` objects. Now\n",
        "let’s practice rewriting those functions as methods.\n",
        "\n",
        "1.  Write a definition for a `Date` class that represents a date – that\n",
        "    is, a year, month, and day of the month.\n",
        "2.  Write an `__init__` method that takes `year`, `month`, and `day` as\n",
        "    parameters and assigns the parameters to attributes. Create an\n",
        "    object that represents June 22, 1933.\n",
        "3.  Write `__str__` method that uses an f-string to format the\n",
        "    attributes and returns the result. If you test it with the `Date`\n",
        "    you created, the result should be 1933-06-22.\n",
        "4.  Write a method called `is_after` that takes two `Date` objects and\n",
        "    returns `True` if the first comes after the second. Create a second\n",
        "    object that represents September 17, 1933, and check whether it\n",
        "    comes after the first object.\n",
        "\n",
        "Hint: You might find it useful write a method called `to_tuple` that\n",
        "returns a tuple that contains the attributes of a `Date` object in\n",
        "year-month-day order."
      ]
    },
    {
      "cell_type": "code",
      "execution_count": 96,
      "id": "fdf1af05",
      "metadata": {},
      "outputs": [
        {
          "name": "stdout",
          "output_type": "stream",
          "text": [
            "1933-6-22\n"
          ]
        },
        {
          "data": {
            "text/plain": [
              "True"
            ]
          },
          "execution_count": 96,
          "metadata": {},
          "output_type": "execute_result"
        }
      ],
      "source": [
        "class Date:\n",
        "    def __init__(self, year, month, day):\n",
        "        self.year = year\n",
        "        self.month = month\n",
        "        self.day = day\n",
        "    \n",
        "    def __str__(self):\n",
        "        return (f'{self.year}-{self.month}-{self.day}')\n",
        "    \n",
        "    def to_tuple(self):\n",
        "        return ((self.year, self.month, self.day))\n",
        "    \n",
        "    def is_after(self, other):\n",
        "        if other.year > self.year:\n",
        "            return True\n",
        "        if other.year == self.year and other.month > self.month:\n",
        "            return True\n",
        "        if other.year == self.year and other.month == self.month and other.day > self.day:\n",
        "            return True\n",
        "        return False\n",
        "\n",
        "\n",
        "date = Date(1933,6,22)\n",
        "print(date)\n",
        "date1 = Date(1933,9,17)\n",
        "date.is_after(date1)\n",
        "\n"
      ]
    }
  ],
  "metadata": {
    "kernelspec": {
      "display_name": "base",
      "language": "python",
      "name": "python3"
    },
    "language_info": {
      "codemirror_mode": {
        "name": "ipython",
        "version": 3
      },
      "file_extension": ".py",
      "mimetype": "text/x-python",
      "name": "python",
      "nbconvert_exporter": "python",
      "pygments_lexer": "ipython3",
      "version": "3.12.2"
    }
  },
  "nbformat": 4,
  "nbformat_minor": 5
}
